{
 "metadata": {
  "language_info": {
   "codemirror_mode": {
    "name": "ipython",
    "version": 3
   },
   "file_extension": ".py",
   "mimetype": "text/x-python",
   "name": "python",
   "nbconvert_exporter": "python",
   "pygments_lexer": "ipython3",
   "version": "3.8.3"
  },
  "orig_nbformat": 4,
  "kernelspec": {
   "name": "python3",
   "display_name": "Python 3.8.3 64-bit ('base': conda)"
  },
  "interpreter": {
   "hash": "ce673ca8065cc1741bb1d48cd628c1692f891aff8e30fd27ef9150d57bd8bb8b"
  }
 },
 "nbformat": 4,
 "nbformat_minor": 2,
 "cells": [
  {
   "cell_type": "code",
   "execution_count": 1,
   "metadata": {},
   "outputs": [],
   "source": [
    "import numpy as np \n",
    "\n",
    "def cart2pol(position):\n",
    "    rho = np.linalg.norm(position)\n",
    "    phi = np.arctan(position[1]/position[0])\n",
    "    phi = np.arctan2(position[1],position[0])\n",
    "    return np.array([rho, phi])\n",
    "\n",
    "def pol2cart(rho, phi):\n",
    "    x = rho * np.cos(phi)\n",
    "    y = rho * np.sin(phi)\n",
    "    return np.array([x, y])"
   ]
  },
  {
   "cell_type": "code",
   "execution_count": 2,
   "metadata": {},
   "outputs": [
    {
     "output_type": "execute_result",
     "data": {
      "text/plain": [
       "array([12.,  5.])"
      ]
     },
     "metadata": {},
     "execution_count": 2
    }
   ],
   "source": [
    "vec = np.array([12, 5])\n",
    "pol = cart2pol(vec)\n",
    "pol2cart(pol[0], pol[1])"
   ]
  },
  {
   "cell_type": "code",
   "execution_count": 3,
   "metadata": {},
   "outputs": [],
   "source": [
    "camera_pos = np.array([1500, 2000])\n",
    "\n",
    "def proj_pos(object_pos, object_h):\n",
    "    h = 700\n",
    "    coord_camera_space = coordinates_board2camera(object_pos)\n",
    "    print(coord_camera_space)  \n",
    "    r, theta = cart2pol(coord_camera_space)\n",
    "    print(r, theta)\n",
    "    proj_r = r * h / 1200\n",
    "    proj_vec = pol2cart(proj_r, theta)\n",
    "    print(proj_vec)\n",
    "    proj_position = coordinates_camera2board(proj_vec)\n",
    "    return proj_position"
   ]
  },
  {
   "cell_type": "code",
   "execution_count": 4,
   "metadata": {},
   "outputs": [],
   "source": [
    "def coordinates_board2camera(coordinates):\n",
    "    return np.array([coordinates[0] - camera_pos[0], camera_pos[1] - coordinates[1] ])\n",
    "\n",
    "def coordinates_camera2board(coordinates):\n",
    "    return np.array([coordinates[0] + camera_pos[0], camera_pos[1] - coordinates[1] ])"
   ]
  },
  {
   "cell_type": "code",
   "execution_count": 5,
   "metadata": {},
   "outputs": [
    {
     "output_type": "stream",
     "name": "stdout",
     "text": [
      "[-1000  1500]\n1802.7756377319947 2.158798930342464\n[-583.33333333  875.        ]\n"
     ]
    },
    {
     "output_type": "execute_result",
     "data": {
      "text/plain": [
       "array([ 916.66666667, 1125.        ])"
      ]
     },
     "metadata": {},
     "execution_count": 5
    }
   ],
   "source": [
    "proj_pos(np.array([500, 500]),500)"
   ]
  },
  {
   "cell_type": "code",
   "execution_count": null,
   "metadata": {},
   "outputs": [],
   "source": []
  }
 ]
}